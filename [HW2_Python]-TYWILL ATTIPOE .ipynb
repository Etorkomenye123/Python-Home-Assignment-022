{
  "metadata": {
    "kernelspec": {
      "name": "python",
      "display_name": "Python (Pyodide)",
      "language": "python"
    },
    "language_info": {
      "codemirror_mode": {
        "name": "python",
        "version": 3
      },
      "file_extension": ".py",
      "mimetype": "text/x-python",
      "name": "python",
      "nbconvert_exporter": "python",
      "pygments_lexer": "ipython3",
      "version": "3.8"
    }
  },
  "nbformat_minor": 5,
  "nbformat": 4,
  "cells": [
    {
      "id": "8f868eb6",
      "cell_type": "markdown",
      "source": "# Homework 2 - Python\n\nFirst Name: THYWILL\n\nLast Name:ATTIPOE\n\nGroup: -",
      "metadata": {}
    },
    {
      "id": "f47683d8",
      "cell_type": "markdown",
      "source": "## Task 1  (1.5 point)\n\nLet's develop the idea from the task in homework 1, now consider a 2D array, and you want to implement a program that not only shift to right or left, but also, it can shift up or down.\n\nIn this scenario, the user need to insert four different arguments:\n\n1. Row shift or column shift? ('row' or 'column')\n\n2. Which direction? ('left', 'right' or 'top', 'down') \n\n3. Index of the column or row? (an integer index)\n\n4. How many elements need to be shifted? (integer number)",
      "metadata": {}
    },
    {
      "id": "2d62ba3d",
      "cell_type": "code",
      "source": "def shift_array(arr, shift_type, direction, index, num_shifts):\n    rows = len(arr)\n    columns = len(arr[0])\n\n    if shift_type == 'row':\n        if direction == 'right':\n            arr[index] = arr[index][-num_shifts:] + arr[index][:-num_shifts]\n        elif direction == 'left':\n            arr[index] = arr[index][num_shifts:] + arr[index][:num_shifts]\n    elif shift_type == 'column':\n        if direction == 'down':\n            for i in range(num_shifts):\n                temp = arr[rows - 1][index]\n                for j in range(rows - 1, 0, -1):\n                    arr[j][index] = arr[j - 1][index]\n                arr[0][index] = temp\n        elif direction == 'up':\n            for i in range(num_shifts):\n                temp = arr[0][index]\n                for j in range(0, rows - 1):\n                    arr[j][index] = arr[j + 1][index]\n                arr[rows - 1][index] = temp\n\n    return arr\n\n\narray_2d = [[10, 11, 12],\n            [13, 14, 15],\n            [16, 17, 18]]\n\n\nshift_type = 'column'  # or 'row'\ndirection = 'down'  # or 'up' for column shift, 'left' or 'right' for row shift\nindex = 1  # index of the column or row\nnum_shifts = 1  # number of elements to shift\n\nshifted_array = shift_array(array_2d, shift_type, direction, index, num_shifts)\nprint(\"Shifted array:\")\nfor row in shifted_array:\n    print(row)",
      "metadata": {
        "trusted": true
      },
      "outputs": [
        {
          "name": "stdout",
          "text": "Shifted array:\n[10, 17, 12]\n[13, 11, 15]\n[16, 14, 18]\n",
          "output_type": "stream"
        }
      ],
      "execution_count": 1
    },
    {
      "id": "d03af2f7",
      "cell_type": "markdown",
      "source": "## Task 2 (1.5 point)\n\nLet's practice (if, elif, else). In this task you need to write a program that determins the result of the rock, paper, scissors game which is given by two players (Player 1 and Player 2). The program should print out the result.\n\nRules of the game:\n- **Paper** beats **rock**\n- **Scissors** beats **paper**\n- **Rock** beats **scissors**\n\nTo understand the logic, write all the combination of the choices for player 1 and player 2 to check the outsomes. It helps you to understand how to write the code.\n\nExample of the outcome:\n```\nPlayer 1? scissors\nPlayer 2? paper\n\nPlayer 1 wins.\n```\n\nThe only valid inputs are `rock`, `paper`, `scissors`. In case the user imported something else, the program prints `\"This input is not valid for our game!\"`",
      "metadata": {}
    },
    {
      "id": "53894434",
      "cell_type": "code",
      "source": "def determine_winner(player1, player2):\n    if player1 == player2:\n        return \"It's a tie!\"\n    elif player1 == 'rock':\n        if player2 == 'scissors':\n            return \"Player 1 wins.\"\n        else:\n            return \"Player 2 wins.\"\n    elif player1 == 'paper':\n        if player2 == 'rock':\n            return \"Player 1 wins.\"\n        else:\n            return \"Player 2 wins.\"\n    elif player1 == 'scissors':\n        if player2 == 'paper':\n            return \"Player 1 wins.\"\n        else:\n            return \"Player 2 wins.\"\n    else:\n        return \"This input is not valid for our game!\"\n\n\nplayer1_choice = input(\"Player 1? \").lower()\nplayer2_choice = input(\"Player 2? \").lower()\n\n\nresult = determine_winner(player1_choice, player2_choice)\nprint(result)",
      "metadata": {
        "trusted": true,
        "scrolled": true
      },
      "outputs": [
        {
          "ename": "<class 'AttributeError'>",
          "evalue": "'PyodideFuture' object has no attribute 'lower'",
          "traceback": [
            "\u001b[0;31m---------------------------------------------------------------------------\u001b[0m",
            "\u001b[0;31mAttributeError\u001b[0m                            Traceback (most recent call last)",
            "Cell \u001b[0;32mIn[3], line 23\u001b[0m\n\u001b[1;32m     19\u001b[0m     \u001b[38;5;28;01melse\u001b[39;00m:\n\u001b[1;32m     20\u001b[0m         \u001b[38;5;28;01mreturn\u001b[39;00m \u001b[38;5;124m\"\u001b[39m\u001b[38;5;124mThis input is not valid for our game!\u001b[39m\u001b[38;5;124m\"\u001b[39m\n\u001b[0;32m---> 23\u001b[0m player1_choice \u001b[38;5;241m=\u001b[39m \u001b[38;5;28;43minput\u001b[39;49m\u001b[43m(\u001b[49m\u001b[38;5;124;43m\"\u001b[39;49m\u001b[38;5;124;43mPlayer 1? \u001b[39;49m\u001b[38;5;124;43m\"\u001b[39;49m\u001b[43m)\u001b[49m\u001b[38;5;241;43m.\u001b[39;49m\u001b[43mlower\u001b[49m()\n\u001b[1;32m     24\u001b[0m player2_choice \u001b[38;5;241m=\u001b[39m \u001b[38;5;28minput\u001b[39m(\u001b[38;5;124m\"\u001b[39m\u001b[38;5;124mPlayer 2? \u001b[39m\u001b[38;5;124m\"\u001b[39m)\u001b[38;5;241m.\u001b[39mlower()\n\u001b[1;32m     27\u001b[0m result \u001b[38;5;241m=\u001b[39m determine_winner(player1_choice, player2_choice)\n",
            "\u001b[0;31mAttributeError\u001b[0m: 'PyodideFuture' object has no attribute 'lower'"
          ],
          "output_type": "error"
        },
        {
          "output_type": "stream",
          "name": "stdin",
          "text": "Player 1?  SCISSORS\n"
        }
      ],
      "execution_count": 3
    },
    {
      "id": "89040ea7",
      "cell_type": "markdown",
      "source": "## Task 3  (0.5 points)\n\nWrite a program to generate the following output by a for loop:\n\nOutput:\n\n```\n*\n**\n***\n****\n*****\n******\n*******\n******\n*****\n****\n***\n**\n*\n```",
      "metadata": {}
    },
    {
      "id": "782170f2",
      "cell_type": "code",
      "source": "for i in range(1, 8):\n    print('*' * i)\n\nfor i in range(6, 0, -1):\n    print('*' * i)",
      "metadata": {
        "trusted": true
      },
      "outputs": [
        {
          "name": "stdout",
          "text": "*\n**\n***\n****\n*****\n******\n*******\n******\n*****\n****\n***\n**\n*\n",
          "output_type": "stream"
        }
      ],
      "execution_count": 4
    },
    {
      "id": "9f0f0213",
      "cell_type": "markdown",
      "source": "## Task 4  (0.5 points)\n\n**Step 1**: Write a program that returns a list that contains only the elements that are common between the provided lists (without duplicates). Be sure that your program `also` works on the two lists with different sizes.\n\n```\na = [2, 2, 3, 1, 1, 1, 1, 3, 2, 2, 6, 5, 4, 7, 8, 31]\nb = [2, 7, 4, 6, 7, 4, 2, 31, 2, 5, 11, 1, 2, 1, 3, 1, 7, 9, 5]\n```",
      "metadata": {}
    },
    {
      "id": "c79ed191",
      "cell_type": "code",
      "source": "a = [2, 2, 3, 1, 1, 1, 1, 3, 2, 2, 6, 5, 4, 7, 8, 31]\nb = [2, 7, 4, 6, 7, 4, 2, 31, 2, 5, 11, 1, 2, 1, 3, 1, 7, 9, 5]\n\n\nset_a = set(a)\nset_b = set(b)\n\n\ncommon_elements = list(set_a.intersection(set_b))\n\nprint(\"Common elements:\", common_elements)",
      "metadata": {
        "trusted": true
      },
      "outputs": [
        {
          "name": "stdout",
          "text": "Common elements: [1, 2, 3, 4, 5, 6, 7, 31]\n",
          "output_type": "stream"
        }
      ],
      "execution_count": 5
    },
    {
      "id": "8a0edbe2",
      "cell_type": "markdown",
      "source": "## Task 5  (0.5 point)\n\nWrite a program to ask the user to insert a string, and print out whether this string is a palindrome or not.\n\n**Note:** A string is said to be a palindrome if it is the same if we start reading it from left to right or right to left.",
      "metadata": {}
    },
    {
      "id": "5414b2cf",
      "cell_type": "code",
      "source": "def is_palindrome(string):\n   \n    clean_string = string.replace(\" \", \"\").lower()\n   \n    return clean_string == clean_string[::-1]\n\n\nexample_string = \"radar\"\n\nif is_palindrome(example_string):\n    print(f\"The string '{example_string}' is a palindrome.\")\nelse:\n    print(f\"The string '{example_string}' is not a palindrome.\")",
      "metadata": {
        "trusted": true
      },
      "outputs": [
        {
          "name": "stdout",
          "text": "The string 'radar' is a palindrome.\n",
          "output_type": "stream"
        }
      ],
      "execution_count": 6
    },
    {
      "id": "63c550f5",
      "cell_type": "markdown",
      "source": "## Task 6  (0.5 point)\n\nLet's consider we have saved a list in a variable. E.g. `my_list = [2, 5, 4, 4, 6, 7, 5, 6, 9, 22, 23, 44, 32]` \n\nWrite a program that takes this list and makes a new list that has only the odd elements of this list in it.",
      "metadata": {}
    },
    {
      "id": "90fcc676",
      "cell_type": "code",
      "source": "my_list = [2, 5, 4, 4, 6, 7, 5, 6, 9, 22, 23, 44, 32]\n\nodd_list = [x for x in my_list if x % 2 != 0]\n\nprint(\"List with only odd elements:\", odd_list)",
      "metadata": {
        "trusted": true
      },
      "outputs": [
        {
          "name": "stdout",
          "text": "List with only odd elements: [5, 7, 5, 9, 23]\n",
          "output_type": "stream"
        }
      ],
      "execution_count": 7
    },
    {
      "id": "6129dc81-cbe3-44b8-b85b-a27d121151fe",
      "cell_type": "code",
      "source": "",
      "metadata": {
        "trusted": true
      },
      "outputs": [],
      "execution_count": null
    }
  ]
}